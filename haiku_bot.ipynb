{
  "nbformat": 4,
  "nbformat_minor": 0,
  "metadata": {
    "colab": {
      "provenance": []
    },
    "kernelspec": {
      "name": "python3",
      "display_name": "Python 3"
    },
    "language_info": {
      "name": "python"
    }
  },
  "cells": [
    {
      "cell_type": "markdown",
      "source": [
        "### Install packages"
      ],
      "metadata": {
        "id": "AIjCgaAz7VQO"
      }
    },
    {
      "cell_type": "code",
      "source": [
        "!pip install phonemizer\n",
        "!sudo apt-get install festival"
      ],
      "metadata": {
        "id": "Od52-b8u7ScR",
        "colab": {
          "base_uri": "https://localhost:8080/"
        },
        "outputId": "5525c88c-2b90-46bb-9f75-0cf6f23c86c6"
      },
      "execution_count": 52,
      "outputs": [
        {
          "output_type": "stream",
          "name": "stdout",
          "text": [
            "Looking in indexes: https://pypi.org/simple, https://us-python.pkg.dev/colab-wheels/public/simple/\n",
            "Requirement already satisfied: phonemizer in /usr/local/lib/python3.8/dist-packages (3.2.1)\n",
            "Requirement already satisfied: attrs>=18.1 in /usr/local/lib/python3.8/dist-packages (from phonemizer) (22.2.0)\n",
            "Requirement already satisfied: joblib in /usr/local/lib/python3.8/dist-packages (from phonemizer) (1.2.0)\n",
            "Requirement already satisfied: typing-extensions in /usr/local/lib/python3.8/dist-packages (from phonemizer) (4.4.0)\n",
            "Requirement already satisfied: dlinfo in /usr/local/lib/python3.8/dist-packages (from phonemizer) (1.2.1)\n",
            "Requirement already satisfied: segments in /usr/local/lib/python3.8/dist-packages (from phonemizer) (2.2.1)\n",
            "Requirement already satisfied: csvw>=1.5.6 in /usr/local/lib/python3.8/dist-packages (from segments->phonemizer) (3.1.3)\n",
            "Requirement already satisfied: clldutils>=1.7.3 in /usr/local/lib/python3.8/dist-packages (from segments->phonemizer) (3.19.0)\n",
            "Requirement already satisfied: regex in /usr/local/lib/python3.8/dist-packages (from segments->phonemizer) (2022.6.2)\n",
            "Requirement already satisfied: lxml in /usr/local/lib/python3.8/dist-packages (from clldutils>=1.7.3->segments->phonemizer) (4.9.2)\n",
            "Requirement already satisfied: colorlog in /usr/local/lib/python3.8/dist-packages (from clldutils>=1.7.3->segments->phonemizer) (6.7.0)\n",
            "Requirement already satisfied: pylatexenc in /usr/local/lib/python3.8/dist-packages (from clldutils>=1.7.3->segments->phonemizer) (2.10)\n",
            "Requirement already satisfied: markdown in /usr/local/lib/python3.8/dist-packages (from clldutils>=1.7.3->segments->phonemizer) (3.4.1)\n",
            "Requirement already satisfied: python-dateutil in /usr/local/lib/python3.8/dist-packages (from clldutils>=1.7.3->segments->phonemizer) (2.8.2)\n",
            "Requirement already satisfied: tabulate>=0.7.7 in /usr/local/lib/python3.8/dist-packages (from clldutils>=1.7.3->segments->phonemizer) (0.8.10)\n",
            "Requirement already satisfied: markupsafe in /usr/local/lib/python3.8/dist-packages (from clldutils>=1.7.3->segments->phonemizer) (2.0.1)\n",
            "Requirement already satisfied: rfc3986<2 in /usr/local/lib/python3.8/dist-packages (from csvw>=1.5.6->segments->phonemizer) (1.5.0)\n",
            "Requirement already satisfied: isodate in /usr/local/lib/python3.8/dist-packages (from csvw>=1.5.6->segments->phonemizer) (0.6.1)\n",
            "Requirement already satisfied: colorama in /usr/local/lib/python3.8/dist-packages (from csvw>=1.5.6->segments->phonemizer) (0.4.6)\n",
            "Requirement already satisfied: uritemplate>=3.0.0 in /usr/local/lib/python3.8/dist-packages (from csvw>=1.5.6->segments->phonemizer) (4.1.1)\n",
            "Requirement already satisfied: rdflib in /usr/local/lib/python3.8/dist-packages (from csvw>=1.5.6->segments->phonemizer) (6.2.0)\n",
            "Requirement already satisfied: requests in /usr/local/lib/python3.8/dist-packages (from csvw>=1.5.6->segments->phonemizer) (2.25.1)\n",
            "Requirement already satisfied: jsonschema in /usr/local/lib/python3.8/dist-packages (from csvw>=1.5.6->segments->phonemizer) (4.3.3)\n",
            "Requirement already satisfied: language-tags in /usr/local/lib/python3.8/dist-packages (from csvw>=1.5.6->segments->phonemizer) (1.2.0)\n",
            "Requirement already satisfied: babel in /usr/local/lib/python3.8/dist-packages (from csvw>=1.5.6->segments->phonemizer) (2.11.0)\n",
            "Requirement already satisfied: pytz>=2015.7 in /usr/local/lib/python3.8/dist-packages (from babel->csvw>=1.5.6->segments->phonemizer) (2022.7)\n",
            "Requirement already satisfied: six in /usr/local/lib/python3.8/dist-packages (from isodate->csvw>=1.5.6->segments->phonemizer) (1.15.0)\n",
            "Requirement already satisfied: importlib-resources>=1.4.0 in /usr/local/lib/python3.8/dist-packages (from jsonschema->csvw>=1.5.6->segments->phonemizer) (5.10.2)\n",
            "Requirement already satisfied: pyrsistent!=0.17.0,!=0.17.1,!=0.17.2,>=0.14.0 in /usr/local/lib/python3.8/dist-packages (from jsonschema->csvw>=1.5.6->segments->phonemizer) (0.19.3)\n",
            "Requirement already satisfied: importlib-metadata>=4.4 in /usr/local/lib/python3.8/dist-packages (from markdown->clldutils>=1.7.3->segments->phonemizer) (5.2.0)\n",
            "Requirement already satisfied: setuptools in /usr/local/lib/python3.8/dist-packages (from rdflib->csvw>=1.5.6->segments->phonemizer) (57.4.0)\n",
            "Requirement already satisfied: pyparsing in /usr/local/lib/python3.8/dist-packages (from rdflib->csvw>=1.5.6->segments->phonemizer) (3.0.9)\n",
            "Requirement already satisfied: idna<3,>=2.5 in /usr/local/lib/python3.8/dist-packages (from requests->csvw>=1.5.6->segments->phonemizer) (2.10)\n",
            "Requirement already satisfied: certifi>=2017.4.17 in /usr/local/lib/python3.8/dist-packages (from requests->csvw>=1.5.6->segments->phonemizer) (2022.12.7)\n",
            "Requirement already satisfied: urllib3<1.27,>=1.21.1 in /usr/local/lib/python3.8/dist-packages (from requests->csvw>=1.5.6->segments->phonemizer) (1.24.3)\n",
            "Requirement already satisfied: chardet<5,>=3.0.2 in /usr/local/lib/python3.8/dist-packages (from requests->csvw>=1.5.6->segments->phonemizer) (4.0.0)\n",
            "Requirement already satisfied: zipp>=0.5 in /usr/local/lib/python3.8/dist-packages (from importlib-metadata>=4.4->markdown->clldutils>=1.7.3->segments->phonemizer) (3.11.0)\n",
            "Reading package lists... Done\n",
            "Building dependency tree       \n",
            "Reading state information... Done\n",
            "festival is already the newest version (1:2.5.0-4build1).\n",
            "0 upgraded, 0 newly installed, 0 to remove and 27 not upgraded.\n"
          ]
        }
      ]
    },
    {
      "cell_type": "markdown",
      "source": [
        "### Import libraries"
      ],
      "metadata": {
        "id": "8nCpIYs_tFDh"
      }
    },
    {
      "cell_type": "code",
      "execution_count": 53,
      "metadata": {
        "id": "hVYh0CPxnJCP"
      },
      "outputs": [],
      "source": [
        "import string\n",
        "import matplotlib\n",
        "import pandas as pd\n",
        "import tensorflow as tf\n",
        "from tensorflow import keras\n",
        "from nltk import word_tokenize\n",
        "from phonemizer import phonemize\n",
        "from phonemizer.separator import Separator\n",
        "import re"
      ]
    },
    {
      "cell_type": "markdown",
      "source": [
        "### Get data from GitHub"
      ],
      "metadata": {
        "id": "4wzKtbvawd5c"
      }
    },
    {
      "cell_type": "code",
      "source": [
        "csv_url = 'https://raw.githubusercontent.com/davisjrule/haiku-bot/main/haiku.csv'\n",
        "df = pd.read_csv(csv_url)\n",
        "df = df.drop('hash', axis=1)\n",
        "df = df.drop('source', axis=1)\n",
        "df = df.drop('Unnamed: 0', axis=1)\n",
        "df.head()"
      ],
      "metadata": {
        "colab": {
          "base_uri": "https://localhost:8080/",
          "height": 206
        },
        "id": "MFrRVFWBwAnh",
        "outputId": "17c6898b-f29e-4c73-954e-57ae6ce90dd7"
      },
      "execution_count": 54,
      "outputs": [
        {
          "output_type": "execute_result",
          "data": {
            "text/plain": [
              "                 0                      1                 2\n",
              "0    fishing boats              colors of       the rainbow\n",
              "1  ash wednesday--    trying to remember           my dream\n",
              "2     snowy morn--    pouring another cup   of black coffee\n",
              "3     shortest day           flames dance       in the oven\n",
              "4             haze  half the horse hidden  behind the house"
            ],
            "text/html": [
              "\n",
              "  <div id=\"df-77d3644a-c849-4c83-8ea5-f24bf347d4c8\">\n",
              "    <div class=\"colab-df-container\">\n",
              "      <div>\n",
              "<style scoped>\n",
              "    .dataframe tbody tr th:only-of-type {\n",
              "        vertical-align: middle;\n",
              "    }\n",
              "\n",
              "    .dataframe tbody tr th {\n",
              "        vertical-align: top;\n",
              "    }\n",
              "\n",
              "    .dataframe thead th {\n",
              "        text-align: right;\n",
              "    }\n",
              "</style>\n",
              "<table border=\"1\" class=\"dataframe\">\n",
              "  <thead>\n",
              "    <tr style=\"text-align: right;\">\n",
              "      <th></th>\n",
              "      <th>0</th>\n",
              "      <th>1</th>\n",
              "      <th>2</th>\n",
              "    </tr>\n",
              "  </thead>\n",
              "  <tbody>\n",
              "    <tr>\n",
              "      <th>0</th>\n",
              "      <td>fishing boats</td>\n",
              "      <td>colors of</td>\n",
              "      <td>the rainbow</td>\n",
              "    </tr>\n",
              "    <tr>\n",
              "      <th>1</th>\n",
              "      <td>ash wednesday--</td>\n",
              "      <td>trying to remember</td>\n",
              "      <td>my dream</td>\n",
              "    </tr>\n",
              "    <tr>\n",
              "      <th>2</th>\n",
              "      <td>snowy morn--</td>\n",
              "      <td>pouring another cup</td>\n",
              "      <td>of black coffee</td>\n",
              "    </tr>\n",
              "    <tr>\n",
              "      <th>3</th>\n",
              "      <td>shortest day</td>\n",
              "      <td>flames dance</td>\n",
              "      <td>in the oven</td>\n",
              "    </tr>\n",
              "    <tr>\n",
              "      <th>4</th>\n",
              "      <td>haze</td>\n",
              "      <td>half the horse hidden</td>\n",
              "      <td>behind the house</td>\n",
              "    </tr>\n",
              "  </tbody>\n",
              "</table>\n",
              "</div>\n",
              "      <button class=\"colab-df-convert\" onclick=\"convertToInteractive('df-77d3644a-c849-4c83-8ea5-f24bf347d4c8')\"\n",
              "              title=\"Convert this dataframe to an interactive table.\"\n",
              "              style=\"display:none;\">\n",
              "        \n",
              "  <svg xmlns=\"http://www.w3.org/2000/svg\" height=\"24px\"viewBox=\"0 0 24 24\"\n",
              "       width=\"24px\">\n",
              "    <path d=\"M0 0h24v24H0V0z\" fill=\"none\"/>\n",
              "    <path d=\"M18.56 5.44l.94 2.06.94-2.06 2.06-.94-2.06-.94-.94-2.06-.94 2.06-2.06.94zm-11 1L8.5 8.5l.94-2.06 2.06-.94-2.06-.94L8.5 2.5l-.94 2.06-2.06.94zm10 10l.94 2.06.94-2.06 2.06-.94-2.06-.94-.94-2.06-.94 2.06-2.06.94z\"/><path d=\"M17.41 7.96l-1.37-1.37c-.4-.4-.92-.59-1.43-.59-.52 0-1.04.2-1.43.59L10.3 9.45l-7.72 7.72c-.78.78-.78 2.05 0 2.83L4 21.41c.39.39.9.59 1.41.59.51 0 1.02-.2 1.41-.59l7.78-7.78 2.81-2.81c.8-.78.8-2.07 0-2.86zM5.41 20L4 18.59l7.72-7.72 1.47 1.35L5.41 20z\"/>\n",
              "  </svg>\n",
              "      </button>\n",
              "      \n",
              "  <style>\n",
              "    .colab-df-container {\n",
              "      display:flex;\n",
              "      flex-wrap:wrap;\n",
              "      gap: 12px;\n",
              "    }\n",
              "\n",
              "    .colab-df-convert {\n",
              "      background-color: #E8F0FE;\n",
              "      border: none;\n",
              "      border-radius: 50%;\n",
              "      cursor: pointer;\n",
              "      display: none;\n",
              "      fill: #1967D2;\n",
              "      height: 32px;\n",
              "      padding: 0 0 0 0;\n",
              "      width: 32px;\n",
              "    }\n",
              "\n",
              "    .colab-df-convert:hover {\n",
              "      background-color: #E2EBFA;\n",
              "      box-shadow: 0px 1px 2px rgba(60, 64, 67, 0.3), 0px 1px 3px 1px rgba(60, 64, 67, 0.15);\n",
              "      fill: #174EA6;\n",
              "    }\n",
              "\n",
              "    [theme=dark] .colab-df-convert {\n",
              "      background-color: #3B4455;\n",
              "      fill: #D2E3FC;\n",
              "    }\n",
              "\n",
              "    [theme=dark] .colab-df-convert:hover {\n",
              "      background-color: #434B5C;\n",
              "      box-shadow: 0px 1px 3px 1px rgba(0, 0, 0, 0.15);\n",
              "      filter: drop-shadow(0px 1px 2px rgba(0, 0, 0, 0.3));\n",
              "      fill: #FFFFFF;\n",
              "    }\n",
              "  </style>\n",
              "\n",
              "      <script>\n",
              "        const buttonEl =\n",
              "          document.querySelector('#df-77d3644a-c849-4c83-8ea5-f24bf347d4c8 button.colab-df-convert');\n",
              "        buttonEl.style.display =\n",
              "          google.colab.kernel.accessAllowed ? 'block' : 'none';\n",
              "\n",
              "        async function convertToInteractive(key) {\n",
              "          const element = document.querySelector('#df-77d3644a-c849-4c83-8ea5-f24bf347d4c8');\n",
              "          const dataTable =\n",
              "            await google.colab.kernel.invokeFunction('convertToInteractive',\n",
              "                                                     [key], {});\n",
              "          if (!dataTable) return;\n",
              "\n",
              "          const docLinkHtml = 'Like what you see? Visit the ' +\n",
              "            '<a target=\"_blank\" href=https://colab.research.google.com/notebooks/data_table.ipynb>data table notebook</a>'\n",
              "            + ' to learn more about interactive tables.';\n",
              "          element.innerHTML = '';\n",
              "          dataTable['output_type'] = 'display_data';\n",
              "          await google.colab.output.renderOutput(dataTable, element);\n",
              "          const docLink = document.createElement('div');\n",
              "          docLink.innerHTML = docLinkHtml;\n",
              "          element.appendChild(docLink);\n",
              "        }\n",
              "      </script>\n",
              "    </div>\n",
              "  </div>\n",
              "  "
            ]
          },
          "metadata": {},
          "execution_count": 54
        }
      ]
    },
    {
      "cell_type": "markdown",
      "source": [
        "### Process data"
      ],
      "metadata": {
        "id": "RGu4A2pNtPbR"
      }
    },
    {
      "cell_type": "code",
      "source": [
        "txt = \"pouring another cup\"\n",
        "tokens = txt.split(\" \")\n",
        "print(tokens)"
      ],
      "metadata": {
        "colab": {
          "base_uri": "https://localhost:8080/"
        },
        "id": "FjdMNpvQ7p9K",
        "outputId": "4a7e5914-4d88-492d-d813-8a2ebda4501f"
      },
      "execution_count": 55,
      "outputs": [
        {
          "output_type": "stream",
          "name": "stdout",
          "text": [
            "['pouring', 'another', 'cup']\n"
          ]
        }
      ]
    },
    {
      "cell_type": "code",
      "source": [
        "def process_word(word):\n",
        "  for char in string.punctuation:\n",
        "    word = word.replace(char, '')\n",
        "  return word.lower()"
      ],
      "metadata": {
        "id": "y1nb4dDMqo8X"
      },
      "execution_count": 56,
      "outputs": []
    },
    {
      "cell_type": "code",
      "source": [
        "def score_haiku(haiku):\n",
        "  score = [0,0,0]\n",
        "  for i in range(len(haiku)):\n",
        "    score[i] = count_syllable(haiku[i][0])\n",
        "\n",
        "  return score"
      ],
      "metadata": {
        "id": "Rau8M6atsOF6"
      },
      "execution_count": 57,
      "outputs": []
    },
    {
      "cell_type": "code",
      "source": [
        "def count_syllable(line):\n",
        "  phn = phonemize(line, language='en-us', backend='festival',\n",
        "                  with_stress=False, separator=Separator(phone=None,\n",
        "                  word=' ', syllable=\"|\"), strip=True)\n",
        "  num_syll = len(phn.replace('|', ' ').split(' '))\n",
        "  return (num_syll)"
      ],
      "metadata": {
        "id": "EMN4saIv5Nir"
      },
      "execution_count": 59,
      "outputs": []
    },
    {
      "cell_type": "code",
      "source": [
        "print(score_haiku([[\"fishing boats\"],\t[\"colors of\"],\t[\"the rainbow\"]]))"
      ],
      "metadata": {
        "colab": {
          "base_uri": "https://localhost:8080/"
        },
        "id": "5w5tVtr5-8Lu",
        "outputId": "4eaa6718-bf32-41c1-e998-dd3ff2ae4500"
      },
      "execution_count": 62,
      "outputs": [
        {
          "output_type": "stream",
          "name": "stdout",
          "text": [
            "[3, 3, 3]\n"
          ]
        }
      ]
    }
  ]
}